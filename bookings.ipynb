{
 "cells": [
  {
   "cell_type": "code",
   "execution_count": 1,
   "id": "ce0c77bf",
   "metadata": {},
   "outputs": [
    {
     "name": "stdout",
     "output_type": "stream",
     "text": [
      "Requirement already satisfied: pandas in c:\\users\\suban\\appdata\\local\\packages\\pythonsoftwarefoundation.python.3.11_qbz5n2kfra8p0\\localcache\\local-packages\\python311\\site-packages (2.3.1)\n",
      "Requirement already satisfied: numpy>=1.23.2 in c:\\users\\suban\\appdata\\local\\packages\\pythonsoftwarefoundation.python.3.11_qbz5n2kfra8p0\\localcache\\local-packages\\python311\\site-packages (from pandas) (2.3.1)\n",
      "Requirement already satisfied: python-dateutil>=2.8.2 in c:\\users\\suban\\appdata\\local\\packages\\pythonsoftwarefoundation.python.3.11_qbz5n2kfra8p0\\localcache\\local-packages\\python311\\site-packages (from pandas) (2.9.0.post0)\n",
      "Requirement already satisfied: pytz>=2020.1 in c:\\users\\suban\\appdata\\local\\packages\\pythonsoftwarefoundation.python.3.11_qbz5n2kfra8p0\\localcache\\local-packages\\python311\\site-packages (from pandas) (2025.2)\n",
      "Requirement already satisfied: tzdata>=2022.7 in c:\\users\\suban\\appdata\\local\\packages\\pythonsoftwarefoundation.python.3.11_qbz5n2kfra8p0\\localcache\\local-packages\\python311\\site-packages (from pandas) (2025.2)\n",
      "Requirement already satisfied: six>=1.5 in c:\\users\\suban\\appdata\\local\\packages\\pythonsoftwarefoundation.python.3.11_qbz5n2kfra8p0\\localcache\\local-packages\\python311\\site-packages (from python-dateutil>=2.8.2->pandas) (1.17.0)\n",
      "Note: you may need to restart the kernel to use updated packages.\n"
     ]
    },
    {
     "name": "stderr",
     "output_type": "stream",
     "text": [
      "\n",
      "[notice] A new release of pip is available: 24.0 -> 25.1.1\n",
      "[notice] To update, run: C:\\Users\\suban\\AppData\\Local\\Microsoft\\WindowsApps\\PythonSoftwareFoundation.Python.3.11_qbz5n2kfra8p0\\python.exe -m pip install --upgrade pip\n"
     ]
    }
   ],
   "source": [
    "pip install pandas"
   ]
  },
  {
   "cell_type": "code",
   "execution_count": 7,
   "id": "d468a2d9",
   "metadata": {},
   "outputs": [
    {
     "name": "stdout",
     "output_type": "stream",
     "text": [
      "Requirement already satisfied: pandas in c:\\users\\suban\\appdata\\local\\packages\\pythonsoftwarefoundation.python.3.11_qbz5n2kfra8p0\\localcache\\local-packages\\python311\\site-packages (2.3.1)\n",
      "Requirement already satisfied: pymysql in c:\\users\\suban\\appdata\\local\\packages\\pythonsoftwarefoundation.python.3.11_qbz5n2kfra8p0\\localcache\\local-packages\\python311\\site-packages (1.1.1)\n",
      "Requirement already satisfied: sqlalchemy in c:\\users\\suban\\appdata\\local\\packages\\pythonsoftwarefoundation.python.3.11_qbz5n2kfra8p0\\localcache\\local-packages\\python311\\site-packages (2.0.41)\n",
      "Requirement already satisfied: numpy>=1.23.2 in c:\\users\\suban\\appdata\\local\\packages\\pythonsoftwarefoundation.python.3.11_qbz5n2kfra8p0\\localcache\\local-packages\\python311\\site-packages (from pandas) (2.3.1)\n",
      "Requirement already satisfied: python-dateutil>=2.8.2 in c:\\users\\suban\\appdata\\local\\packages\\pythonsoftwarefoundation.python.3.11_qbz5n2kfra8p0\\localcache\\local-packages\\python311\\site-packages (from pandas) (2.9.0.post0)\n",
      "Requirement already satisfied: pytz>=2020.1 in c:\\users\\suban\\appdata\\local\\packages\\pythonsoftwarefoundation.python.3.11_qbz5n2kfra8p0\\localcache\\local-packages\\python311\\site-packages (from pandas) (2025.2)\n",
      "Requirement already satisfied: tzdata>=2022.7 in c:\\users\\suban\\appdata\\local\\packages\\pythonsoftwarefoundation.python.3.11_qbz5n2kfra8p0\\localcache\\local-packages\\python311\\site-packages (from pandas) (2025.2)\n",
      "Requirement already satisfied: greenlet>=1 in c:\\users\\suban\\appdata\\local\\packages\\pythonsoftwarefoundation.python.3.11_qbz5n2kfra8p0\\localcache\\local-packages\\python311\\site-packages (from sqlalchemy) (3.2.3)\n",
      "Requirement already satisfied: typing-extensions>=4.6.0 in c:\\users\\suban\\appdata\\local\\packages\\pythonsoftwarefoundation.python.3.11_qbz5n2kfra8p0\\localcache\\local-packages\\python311\\site-packages (from sqlalchemy) (4.14.1)\n",
      "Requirement already satisfied: six>=1.5 in c:\\users\\suban\\appdata\\local\\packages\\pythonsoftwarefoundation.python.3.11_qbz5n2kfra8p0\\localcache\\local-packages\\python311\\site-packages (from python-dateutil>=2.8.2->pandas) (1.17.0)\n",
      "Note: you may need to restart the kernel to use updated packages.\n"
     ]
    },
    {
     "name": "stderr",
     "output_type": "stream",
     "text": [
      "\n",
      "[notice] A new release of pip is available: 24.0 -> 25.1.1\n",
      "[notice] To update, run: C:\\Users\\suban\\AppData\\Local\\Microsoft\\WindowsApps\\PythonSoftwareFoundation.Python.3.11_qbz5n2kfra8p0\\python.exe -m pip install --upgrade pip\n"
     ]
    }
   ],
   "source": [
    "pip install pandas pymysql sqlalchemy"
   ]
  },
  {
   "cell_type": "code",
   "execution_count": 2,
   "id": "63a923c8",
   "metadata": {},
   "outputs": [
    {
     "name": "stdout",
     "output_type": "stream",
     "text": [
      "Requirement already satisfied: mysql-connector-python in c:\\users\\suban\\appdata\\local\\packages\\pythonsoftwarefoundation.python.3.11_qbz5n2kfra8p0\\localcache\\local-packages\\python311\\site-packages (9.3.0)\n",
      "Note: you may need to restart the kernel to use updated packages.\n"
     ]
    },
    {
     "name": "stderr",
     "output_type": "stream",
     "text": [
      "\n",
      "[notice] A new release of pip is available: 24.0 -> 25.1.1\n",
      "[notice] To update, run: C:\\Users\\suban\\AppData\\Local\\Microsoft\\WindowsApps\\PythonSoftwareFoundation.Python.3.11_qbz5n2kfra8p0\\python.exe -m pip install --upgrade pip\n"
     ]
    }
   ],
   "source": [
    "pip install mysql-connector-python"
   ]
  },
  {
   "cell_type": "code",
   "execution_count": 2,
   "id": "343e2978",
   "metadata": {},
   "outputs": [],
   "source": [
    "import csv\n",
    "import mysql.connector\n",
    "from mysql.connector import Error"
   ]
  },
  {
   "cell_type": "code",
   "execution_count": 4,
   "id": "b6609003",
   "metadata": {},
   "outputs": [],
   "source": [
    "# --- Configuration ---\n",
    "CSV_FILE = 'Bookings-100000-Rows.csv'\n",
    "DATABASE_NAME = 'ola'\n",
    "TABLE_NAME = 'booking'\n",
    "\n",
    "# !! IMPORTANT !!\n",
    "# Replace with your MySQL database credentials\n",
    "DB_CONFIG = {\n",
    "    'host': 'localhost',\n",
    "    'user': 'root',\n",
    "    'password': 'Subanisyed7181@'\n",
    "}"
   ]
  },
  {
   "cell_type": "code",
   "execution_count": 7,
   "id": "5a61ed81",
   "metadata": {},
   "outputs": [],
   "source": [
    "from datetime import datetime"
   ]
  },
  {
   "cell_type": "code",
   "execution_count": null,
   "id": "b176dfe9",
   "metadata": {},
   "outputs": [
    {
     "name": "stdout",
     "output_type": "stream",
     "text": [
      "Successfully connected to MySQL Database 'ola'!\n",
      "Prepared INSERT query for table 'booking'.\n",
      "Inserted 10000 rows so far...\n",
      "Inserted 20000 rows so far...\n",
      "Inserted 30000 rows so far...\n",
      "Inserted 40000 rows so far...\n",
      "Inserted 50000 rows so far...\n",
      "Inserted 60000 rows so far...\n",
      "Inserted 70000 rows so far...\n",
      "Inserted 80000 rows so far...\n",
      "Inserted 90000 rows so far...\n",
      "Inserted 100000 rows so far...\n",
      "Inserted final batch. Total rows inserted: 103024.\n",
      "Data from 'Bookings-100000-Rows.csv' successfully inserted into table 'booking'.\n",
      "MySQL connection closed.\n"
     ]
    }
   ],
   "source": [
    "def insert_data_from_csv(csv_file_path, db_name, table_name, db_config):\n",
    "    \"\"\"\n",
    "    Inserts data from a CSV file into a MySQL database table.\n",
    "\n",
    "    Args:\n",
    "        csv_file_path (str): The path to the CSV file.\n",
    "        db_name (str): The name of the database.\n",
    "        table_name (str): The name of the table.\n",
    "        db_config (dict): A dictionary containing database connection details\n",
    "                          (host, user, password).\n",
    "    \"\"\"\n",
    "    conn = None\n",
    "    cursor = None\n",
    "    try:\n",
    "        \n",
    "        conn = mysql.connector.connect(\n",
    "            host=db_config['host'],\n",
    "            user=db_config['user'],\n",
    "            password=db_config['password'],\n",
    "            database=db_name \n",
    "        )\n",
    "        if conn.is_connected():\n",
    "            print(f\"Successfully connected to MySQL Database '{db_name}'!\")\n",
    "\n",
    "            cursor = conn.cursor()\n",
    "\n",
    "            \n",
    "            columns = [\n",
    "                \"booking_date\", \"booking_time\", \"booking_id\", \"booking_status\",\n",
    "                \"customer_id\", \"vehicle_type\", \"pickup_location\", \"drop_location\",\n",
    "                \"v_tat\", \"c_tat\", \"canceled_rides_by_customer\",\n",
    "                \"canceled_rides_by_driver\", \"incomplete_rides\",\n",
    "                \"incomplete_rides_reason\", \"booking_value\", \"payment_method\",\n",
    "                \"ride_distance\", \"driver_ratings\", \"customer_rating\"\n",
    "            ]\n",
    "\n",
    "            \n",
    "            placeholders = ', '.join(['%s'] * len(columns))\n",
    "            insert_columns_str = ', '.join([f\"`{col}`\" for col in columns])\n",
    "            insert_query = f\"INSERT INTO `{table_name}` ({insert_columns_str}) VALUES ({placeholders})\"\n",
    "\n",
    "            print(f\"Prepared INSERT query for table '{table_name}'.\")\n",
    "\n",
    "            \n",
    "            with open(csv_file_path, 'r', encoding='utf-8') as file:\n",
    "                csv_reader = csv.reader(file)\n",
    "                next(csv_reader) \n",
    "                batch_size = 10000 \n",
    "                data_to_insert = []\n",
    "                total_rows_processed = 0\n",
    "\n",
    "                for i, row in enumerate(csv_reader):\n",
    "                    \n",
    "                    if len(row) == len(columns):\n",
    "                        driver_ratings = None\n",
    "                        if row[17].lower() not in ('null', ''):\n",
    "                            try:\n",
    "                                driver_ratings = float(row[17])\n",
    "                            except ValueError:\n",
    "                                pass \n",
    "\n",
    "                        customer_rating = None\n",
    "                        if row[18].lower() not in ('null', ''):\n",
    "                            try:\n",
    "                                customer_rating = float(row[18])\n",
    "                            except ValueError:                            \n",
    "                                pass \n",
    "\n",
    "                        \n",
    "                        booking_date = None\n",
    "                        if row[0].lower() not in ('null', ''):\n",
    "                            try: \n",
    "                                parsed_date = datetime.strptime(row[0], '%d-%m-%Y') \n",
    "                                booking_date = parsed_date.strftime('%Y-%m-%d')\n",
    "                            except ValueError:\n",
    "                                print(f\"Warning: Could not parse date '{row[0]}' in row {i+2}. Setting to NULL.\")\n",
    "                                pass \n",
    "\n",
    "                        try:\n",
    "                            val = (\n",
    "                                booking_date, \n",
    "                                row[1], \n",
    "                                row[2], \n",
    "                                row[3], \n",
    "                                row[4], \n",
    "                                row[5], \n",
    "                                row[6], \n",
    "                                row[7], \n",
    "                                row[8], \n",
    "                                row[9], \n",
    "                                row[10],\n",
    "                                row[11],\n",
    "                                row[12],\n",
    "                                row[13],\n",
    "                                int(row[14]), \n",
    "                                row[15], \n",
    "                                int(row[16]), \n",
    "                                driver_ratings,\n",
    "                                customer_rating\n",
    "                            )\n",
    "                            data_to_insert.append(val)\n",
    "                            total_rows_processed += 1\n",
    "                        except ValueError as ve:\n",
    "                            print(f\"Skipping row {i+2} due to data type conversion error (other than ratings/date): {ve} - Row: {row}\")\n",
    "                            continue \n",
    "\n",
    "                    else:\n",
    "                        print(f\"Skipping row {i+2} due to column mismatch (expected {len(columns)}, got {len(row)}): {row}\")\n",
    "                        continue\n",
    "\n",
    "                    if len(data_to_insert) >= batch_size:\n",
    "                        cursor.executemany(insert_query, data_to_insert)\n",
    "                        conn.commit()\n",
    "                        print(f\"Inserted {total_rows_processed} rows so far...\")\n",
    "                        data_to_insert = [] \n",
    "\n",
    "                \n",
    "                if data_to_insert:\n",
    "                    cursor.executemany(insert_query, data_to_insert)\n",
    "                    conn.commit()\n",
    "                    print(f\"Inserted final batch. Total rows inserted: {total_rows_processed}.\")\n",
    "\n",
    "                print(f\"Data from '{csv_file_path}' successfully inserted into table '{table_name}'.\")\n",
    "\n",
    "    except Error as e:\n",
    "        print(f\"Error: {e}\")\n",
    "        if conn and conn.is_connected():\n",
    "            conn.rollback()\n",
    "    finally:\n",
    "        if cursor:\n",
    "            cursor.close()\n",
    "        if conn and conn.is_connected():\n",
    "            conn.close()\n",
    "            print(\"MySQL connection closed.\")\n",
    "\n",
    "\n",
    "if __name__ == \"__main__\":\n",
    "    insert_data_from_csv(CSV_FILE, DATABASE_NAME, TABLE_NAME, DB_CONFIG)\n"
   ]
  }
 ],
 "metadata": {
  "kernelspec": {
   "display_name": "Python 3",
   "language": "python",
   "name": "python3"
  },
  "language_info": {
   "codemirror_mode": {
    "name": "ipython",
    "version": 3
   },
   "file_extension": ".py",
   "mimetype": "text/x-python",
   "name": "python",
   "nbconvert_exporter": "python",
   "pygments_lexer": "ipython3",
   "version": "3.11.9"
  }
 },
 "nbformat": 4,
 "nbformat_minor": 5
}
